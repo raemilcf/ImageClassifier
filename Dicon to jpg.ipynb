{
 "cells": [
  {
   "cell_type": "code",
   "execution_count": 2,
   "id": "3166242e-d29f-418c-a504-89146df2e7ae",
   "metadata": {},
   "outputs": [],
   "source": [
    "import os\n",
    "import glob\n",
    "import shutil\n",
    "import pydicom\n",
    "from PIL import Image\n",
    "import numpy as np"
   ]
  },
  {
   "cell_type": "code",
   "execution_count": 4,
   "id": "d4e4607a-c893-46c2-8d34-8f196f5d101d",
   "metadata": {},
   "outputs": [
    {
     "name": "stderr",
     "output_type": "stream",
     "text": [
      "<>:2: SyntaxWarning: invalid escape sequence '\\L'\n",
      "<>:2: SyntaxWarning: invalid escape sequence '\\L'\n",
      "C:\\Users\\Sonal's\\AppData\\Local\\Temp\\ipykernel_5368\\3053310034.py:2: SyntaxWarning: invalid escape sequence '\\L'\n",
      "  output_dir = \"D:\\\\AIML\\\\Term 2\\\\Advanced Python AI and ML Tools\\\\Lungs Cancer Detection using Open CV\\\\Annotated but not\\Lungs Images\"\n"
     ]
    },
    {
     "name": "stdout",
     "output_type": "stream",
     "text": [
      "All .dcm files have been converted and saved as JPEG. Total files converted: 30001\n"
     ]
    }
   ],
   "source": [
    "source_dir = 'D:\\\\AIML\\\\Term 2\\\\Advanced Python AI and ML Tools\\\\Lungs Cancer Detection using Open CV\\\\Annotated but not\\\\All DCM Files'\n",
    "destination_dir = \"D:\\\\AIML\\\\Term 2\\\\Advanced Python AI and ML Tools\\\\Lungs Cancer Detection using Open CV\\\\Annotated but not\\Lungs Images\"\n",
    "\n",
    "# Create a destinationn file to store jpeg files \n",
    "os.makedirs(destination_dir, exist_ok=True)\n",
    "image_count = 0\n",
    "\n",
    "# Take all DICOM files from the directory respectively\n",
    "for dicom_file in os.listdir(source_dir):\n",
    "    image_count += 1\n",
    "    if dicom_file.lower().endswith('.dcm') and image_count<=30000:\n",
    "        dicom_file_path = os.path.join(source_dir, dicom_file)\n",
    "        # Read the DICOM file\n",
    "        dicom_file = pydicom.dcmread(dicom_file_path)\n",
    "        \n",
    "        # Check if pixel data of the DICOM file is 3D\n",
    "        if dicom_file.pixel_array.ndim == 3:\n",
    "            # When we have 3D data, we'll take the slice from the middle of the array\n",
    "            lung_image_array = dicom_file.pixel_array[:, :, dicom_file.pixel_array.shape[2] // 2]\n",
    "        else:\n",
    "            # When the pixel data is 2D\n",
    "            lung_image_array = dicom_file.pixel_array\n",
    "        \n",
    "        # Normalize pixel values for DICOM file to the range of 0 to 255 for the array\n",
    "        lung_image_array = np.interp(lung_image_array, (lung_image_array.min(), lung_image_array.max()), (0, 255)).astype(np.uint8)\n",
    "        \n",
    "        # Transform numpy array to PIL Image\n",
    "        lung_image= Image.fromarray(lung_image_array)\n",
    "        \n",
    "        # Save the Image in JPEG format\n",
    "        lung_jpeg_file = os.path.splitext(dicom_file)[0] + '.jpg'\n",
    "        lung_jpeg_path = os.path.join(destination_dir, lung_jpeg_file)\n",
    "        lung_image.save(lung_jpeg_path)\n",
    "    else:\n",
    "        break\n",
    "        \n",
    "\n",
    "print(f'Total files converted and saved as JPEG: {image_count}')"
   ]
  },
  {
   "cell_type": "code",
   "execution_count": null,
   "id": "9e6e287a-95b9-4bb4-86c9-2b9e22c82954",
   "metadata": {},
   "outputs": [],
   "source": []
  }
 ],
 "metadata": {
  "kernelspec": {
   "display_name": "Python 3 (ipykernel)",
   "language": "python",
   "name": "python3"
  },
  "language_info": {
   "codemirror_mode": {
    "name": "ipython",
    "version": 3
   },
   "file_extension": ".py",
   "mimetype": "text/x-python",
   "name": "python",
   "nbconvert_exporter": "python",
   "pygments_lexer": "ipython3",
   "version": "3.12.4"
  }
 },
 "nbformat": 4,
 "nbformat_minor": 5
}
